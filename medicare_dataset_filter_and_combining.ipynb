{
 "cells": [
  {
   "cell_type": "markdown",
   "id": "f63def42",
   "metadata": {},
   "source": [
    "# 1- Filter and Save Datasets Based on Selected Columns"
   ]
  },
  {
   "cell_type": "code",
   "execution_count": null,
   "id": "09aca523",
   "metadata": {},
   "outputs": [],
   "source": [
    "import pandas as pd\n",
    "import gc\n",
    "\n",
    "# Columns you want to keep\n",
    "use_cols = ['Prscrbr_NPI', 'Prscrbr_Type', 'Tot_Benes', 'Tot_Clms',\n",
    "            'Tot_30day_Fills', 'Tot_Day_Suply', 'Tot_Drug_Cst']\n",
    "\n",
    "# Memory-efficient dtypes\n",
    "dtype_map = {\n",
    "    'Prscrbr_NPI': 'str',\n",
    "    'Prscrbr_Type': 'category',\n",
    "    'Tot_Benes': 'float32',\n",
    "    'Tot_Clms': 'float32',\n",
    "    'Tot_30day_Fills': 'float32',\n",
    "    'Tot_Day_Suply': 'float32',\n",
    "    'Tot_Drug_Cst': 'float32',\n",
    "}\n",
    "\n",
    "for year in range(2017, 2020):\n",
    "    file_name = f\"Medicare_Part_D_Prescribers_by_Provider_and_Drug_{year}.csv\"\n",
    "    output_name = f\"outputs/Filtered_Medicare_{year}.csv\"\n",
    "\n",
    "    try:\n",
    "        print(f\"Processing {file_name}\")\n",
    "        df = pd.read_csv(file_name, usecols=use_cols, dtype=dtype_map)\n",
    "        df.to_csv(output_name, index=False)\n",
    "        print(f\"Saved filtered file: {output_name}\")\n",
    "        del df\n",
    "        gc.collect()\n",
    "    except Exception as e:\n",
    "        print(f\"Failed to process {file_name}: {e}\")\n",
    "\n",
    "\n"
   ]
  },
  {
   "cell_type": "markdown",
   "id": "f5ffc0b0",
   "metadata": {},
   "source": [
    "# 2- Combine Datasets for Different Years"
   ]
  },
  {
   "cell_type": "code",
   "execution_count": null,
   "id": "0161f553",
   "metadata": {},
   "outputs": [],
   "source": [
    "import pandas as pd\n",
    "import gc\n",
    "\n",
    "# List of columns (same for all files)\n",
    "use_cols = ['Prscrbr_NPI', 'Prscrbr_Type', 'Tot_Benes', 'Tot_Clms',\n",
    "            'Tot_30day_Fills', 'Tot_Day_Suply', 'Tot_Drug_Cst']\n",
    "\n",
    "# Function to combine and save a list of filtered CSVs\n",
    "def combine_and_save(years, output_filename):\n",
    "    dfs = []\n",
    "    for year in years:\n",
    "        file_name = f\"outputs/Filtered_Medicare_{year}.csv\"\n",
    "        try:\n",
    "            print(f\"Loading {file_name}\")\n",
    "            # df = pd.read_csv(file_name, usecols=use_cols)\n",
    "            df = pd.read_csv(file_name)\n",
    "            df['Source_Year'] = year  # Optional: add year column\n",
    "            dfs.append(df)\n",
    "        except Exception as e:\n",
    "            print(f\"Failed to load {file_name}: {e}\")\n",
    "    # Concatenate and save\n",
    "    if dfs:\n",
    "        combined_df = pd.concat(dfs, ignore_index=True)\n",
    "        combined_df.to_csv(output_filename, index=False)\n",
    "        print(f\"Saved combined file: {output_filename}\")\n",
    "        del combined_df, dfs\n",
    "        gc.collect()\n",
    "    else:\n",
    "        print(f\"No data to save for {output_filename}\")\n",
    "\n",
    "# Combine and save groups\n",
    "# combine_and_save([2013, 2014, 2015, 2016], \"outputs/Combined_Medicare_2013_2016.csv\")\n",
    "combine_and_save([2017, 2018, 2019], \"outputs/Combined_Medicare_2017_2019.csv\")\n"
   ]
  }
 ],
 "metadata": {
  "kernelspec": {
   "display_name": "pytorch_env_v_1_13_1",
   "language": "python",
   "name": "python3"
  },
  "language_info": {
   "codemirror_mode": {
    "name": "ipython",
    "version": 3
   },
   "file_extension": ".py",
   "mimetype": "text/x-python",
   "name": "python",
   "nbconvert_exporter": "python",
   "pygments_lexer": "ipython3",
   "version": "3.10.12"
  }
 },
 "nbformat": 4,
 "nbformat_minor": 5
}
