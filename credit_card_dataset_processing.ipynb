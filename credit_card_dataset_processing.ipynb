{
 "cells": [
  {
   "cell_type": "code",
   "execution_count": null,
   "id": "56e2aad9",
   "metadata": {},
   "outputs": [],
   "source": [
    "import pandas as pd\n",
    "import numpy as np\n",
    "import matplotlib.pyplot as plt\n",
    "import seaborn as sns\n",
    "\n",
    "# Load dataset\n",
    "df = pd.read_csv('creditcard.csv')\n",
    "\n",
    "# Show first few rows\n",
    "print(\"First 5 Rows:\")\n",
    "print(df.head())"
   ]
  },
  {
   "cell_type": "code",
   "execution_count": null,
   "id": "c65ced27",
   "metadata": {},
   "outputs": [],
   "source": [
    "df.head()"
   ]
  },
  {
   "cell_type": "code",
   "execution_count": null,
   "id": "5fc2c942",
   "metadata": {},
   "outputs": [],
   "source": [
    "# Print column names\n",
    "print(\"Column Names:\")\n",
    "print(df.columns.tolist())"
   ]
  },
  {
   "cell_type": "code",
   "execution_count": null,
   "id": "10cf1c76",
   "metadata": {},
   "outputs": [],
   "source": [
    "# Shape of dataset\n",
    "print(f\"Dataset shape: {df.shape}\")\n",
    "\n",
    "# Column information\n",
    "print(\"\\n Dataset Info:\")\n",
    "print(df.info())\n",
    "\n"
   ]
  },
  {
   "cell_type": "code",
   "execution_count": null,
   "id": "e47a4b86",
   "metadata": {},
   "outputs": [],
   "source": [
    "# Descriptive statistics\n",
    "print(\"\\n  Descriptive Statistics:\")\n",
    "print(df.describe())"
   ]
  },
  {
   "cell_type": "code",
   "execution_count": null,
   "id": "f33b2fc2",
   "metadata": {},
   "outputs": [],
   "source": [
    "# Check for missing values\n",
    "print(\"\\n Missing Values:\")\n",
    "print(df.isnull().sum())"
   ]
  },
  {
   "cell_type": "code",
   "execution_count": null,
   "id": "3472687c",
   "metadata": {},
   "outputs": [],
   "source": [
    "# Class distribution (fraud vs non-fraud)\n",
    "print(\"\\n Class Distribution:\")\n",
    "print(df['Class'].value_counts())\n",
    "print(\"\\nClass Distribution (Normalized):\")\n",
    "print(df['Class'].value_counts(normalize=True))\n",
    "\n",
    "# Plot class distribution\n",
    "plt.figure(figsize=(6,4))\n",
    "sns.countplot(x='Class', data=df)\n",
    "plt.title(\"Class Distribution (0 = Not Fraud, 1 = Fraud)\")\n",
    "plt.xlabel(\"Class\")\n",
    "plt.ylabel(\"Count\")\n",
    "plt.show()\n",
    "\n",
    "# Correlation matrix (optional, only first 10 or full V1-V28 + Amount)\n",
    "plt.figure(figsize=(12,10))\n",
    "corr = df.corr()\n",
    "sns.heatmap(corr, cmap='coolwarm', annot=False)\n",
    "plt.title(\"Correlation Matrix\")\n",
    "plt.show()\n",
    "\n",
    "# Distribution of 'Amount' for both classes\n",
    "plt.figure(figsize=(10,5))\n",
    "sns.histplot(data=df, x='Amount', hue='Class', bins=20, kde=True)\n",
    "plt.title(\"Distribution of Transaction Amount by Class\")\n",
    "plt.xlabel(\"Amount\")\n",
    "plt.ylabel(\"Frequency\")\n",
    "plt.show()\n",
    "\n",
    "# Time-based transaction visualization\n",
    "plt.figure(figsize=(10,5))\n",
    "sns.histplot(data=df, x='Time', hue='Class', bins=100, kde=False)\n",
    "plt.title(\"Transaction Time Distribution by Class\")\n",
    "plt.xlabel(\"Time (seconds)\")\n",
    "plt.ylabel(\"Number of Transactions\")\n",
    "plt.show()\n"
   ]
  },
  {
   "cell_type": "code",
   "execution_count": null,
   "id": "8dae6ce5",
   "metadata": {},
   "outputs": [],
   "source": [
    "import pandas as pd\n",
    "from sklearn.preprocessing import StandardScaler\n",
    "from sklearn.decomposition import PCA\n",
    "\n",
    "# Load dataset\n",
    "df_v1 = pd.read_csv('creditcard.csv')\n",
    "\n",
    "# Drop 'Time' column\n",
    "df_v2 = df_v1.drop(columns=['Time'])\n",
    "\n",
    "# Normalize 'Amount'\n",
    "scaler_amount = StandardScaler()\n",
    "df_v2['Amount'] = scaler_amount.fit_transform(df_v2[['Amount']])\n",
    "\n",
    "# --- Apply PCA to V1-V28 ---\n",
    "# Step 1: Normalize V1 to V28\n",
    "v_columns = [f'V{i}' for i in range(1, 29)]\n",
    "scaler_v = StandardScaler()\n",
    "v_scaled = scaler_v.fit_transform(df_v2[v_columns])\n",
    "\n",
    "# Step 2: Apply PCA to normalized V1-V28\n",
    "pca = PCA(n_components=28)\n",
    "v_pca = pca.fit_transform(v_scaled)\n",
    "\n",
    "# Step 3: Create new DataFrame from PCA output\n",
    "v_pca_df = pd.DataFrame(v_pca, columns=[f'PC{i+1}' for i in range(28)])\n",
    "\n",
    "# Step 4: Combine with 'Amount' and 'Class'\n",
    "df_v2_pca = pd.concat([v_pca_df, df_v2[['Amount', 'Class']].reset_index(drop=True)], axis=1)\n",
    "\n",
    "# Print results\n",
    "print(\"PCA applied to V1–V28.\")\n",
    "print(\"Final DataFrame shape:\", df_v2_pca.shape)\n",
    "print(\"Final columns:\", df_v2_pca.columns.tolist())\n",
    "\n",
    "# Split into features and labels\n",
    "X = df_v2_pca.drop(columns=['Class'])\n",
    "y = df_v2_pca['Class']\n",
    "\n",
    "print(\"\\nFeatures shape:\", X.shape)\n",
    "print(\"Target shape:\", y.shape)\n"
   ]
  },
  {
   "cell_type": "code",
   "execution_count": 10,
   "id": "dfa186f9",
   "metadata": {},
   "outputs": [],
   "source": [
    "# partd.to_csv(\"Combined_LEIE_Medicare_2017_2019_DOWNSIZED_1mil.csv\", index=False)\n",
    "df_v2_pca.to_csv(\"credit_card_PCA.csv\", index=False)"
   ]
  }
 ],
 "metadata": {
  "kernelspec": {
   "display_name": "pytorch_env_v_1_13_1",
   "language": "python",
   "name": "python3"
  },
  "language_info": {
   "codemirror_mode": {
    "name": "ipython",
    "version": 3
   },
   "file_extension": ".py",
   "mimetype": "text/x-python",
   "name": "python",
   "nbconvert_exporter": "python",
   "pygments_lexer": "ipython3",
   "version": "3.10.12"
  }
 },
 "nbformat": 4,
 "nbformat_minor": 5
}
